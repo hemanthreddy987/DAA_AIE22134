{
  "nbformat": 4,
  "nbformat_minor": 0,
  "metadata": {
    "colab": {
      "provenance": []
    },
    "kernelspec": {
      "name": "python3",
      "display_name": "Python 3"
    },
    "language_info": {
      "name": "python"
    }
  },
  "cells": [
    {
      "cell_type": "markdown",
      "source": [
        "LAB_4\n"
      ],
      "metadata": {
        "id": "7QfzuniadzE5"
      }
    },
    {
      "cell_type": "markdown",
      "source": [
        "1)\n"
      ],
      "metadata": {
        "id": "-DPuCR1qd829"
      }
    },
    {
      "cell_type": "code",
      "source": [
        "def fractional_knapsack(value, weight, capacity):\n",
        "    index = list(range(len(value)))\n",
        "    # Calculate the value/weight ratio and sort by this ratio in descending order\n",
        "    ratio = [v/w for v, w in zip(value, weight)]\n",
        "    index.sort(key=lambda i: ratio[i], reverse=True)\n",
        "\n",
        "    max_value = 0\n",
        "    fractions = [0]*len(value)\n",
        "\n",
        "    for i in index:\n",
        "        if weight[i] <= capacity:\n",
        "            # If the item can be fully included, take it fully\n",
        "            fractions[i] = 1\n",
        "            max_value += value[i]\n",
        "            capacity -= weight[i]\n",
        "        else:\n",
        "            # If the item cannot be fully included, take the fraction that fits\n",
        "            fractions[i] = capacity / weight[i]\n",
        "            max_value += value[i] * fractions[i]\n",
        "            break\n",
        "\n",
        "    return max_value, fractions\n",
        "\n",
        "# Example usage:\n",
        "values = [60, 100, 120]  # Benefits of the items\n",
        "weights = [10, 20, 30]   # Weights of the items\n",
        "capacity = 50            # Capacity of the knapsack\n",
        "\n",
        "max_value, fractions = fractional_knapsack(values, weights, capacity)\n",
        "print(\"The maximum value of items that can be carried:\", max_value)\n",
        "print(\"Fractions in which the items are taken:\", fractions)\n"
      ],
      "metadata": {
        "colab": {
          "base_uri": "https://localhost:8080/"
        },
        "id": "958h1CVyd-0g",
        "outputId": "8eac33be-7977-4b55-af4a-1474f02e4a1c"
      },
      "execution_count": 2,
      "outputs": [
        {
          "output_type": "stream",
          "name": "stdout",
          "text": [
            "The maximum value of items that can be carried: 240.0\n",
            "Fractions in which the items are taken: [1, 1, 0.6666666666666666]\n"
          ]
        }
      ]
    },
    {
      "cell_type": "markdown",
      "source": [
        "2)"
      ],
      "metadata": {
        "id": "F6tdWnKDeyHW"
      }
    },
    {
      "cell_type": "code",
      "source": [
        "def maximize_sum(arr):\n",
        "    # Sort the array in ascending order\n",
        "    arr.sort()\n",
        "\n",
        "    # Initialize sum\n",
        "    max_sum = 0\n",
        "\n",
        "    # Compute the sum of products\n",
        "    for i in range(len(arr)):\n",
        "        max_sum += arr[i] * i\n",
        "\n",
        "    return max_sum\n",
        "\n",
        "# Example usage\n",
        "arr = [2, 5, 3, 4, 0]\n",
        "result = maximize_sum(arr)\n",
        "print(f\"Maximum sum of products is: {result}\")\n"
      ],
      "metadata": {
        "colab": {
          "base_uri": "https://localhost:8080/"
        },
        "id": "xz-xHzNuezTb",
        "outputId": "82a69efc-802e-40be-f395-9ff37329059b"
      },
      "execution_count": 3,
      "outputs": [
        {
          "output_type": "stream",
          "name": "stdout",
          "text": [
            "Maximum sum of products is: 40\n"
          ]
        }
      ]
    },
    {
      "cell_type": "markdown",
      "source": [
        "3)"
      ],
      "metadata": {
        "id": "aN2ZssEJgbmL"
      }
    },
    {
      "cell_type": "code",
      "source": [
        "def min_sum_of_products(array_one, array_two):\n",
        "    # Sort array_one in ascending order\n",
        "    array_one.sort()\n",
        "    # Sort array_two in descending order\n",
        "    array_two.sort(reverse=True)\n",
        "\n",
        "    # Calculate the sum of products\n",
        "    n = len(array_one)\n",
        "    sum_of_products = sum(array_one[i] * array_two[i] for i in range(n))\n",
        "\n",
        "    return sum_of_products\n",
        "\n",
        "# Example usage\n",
        "array_one = [7, 5, 1, 4]\n",
        "array_two = [6, 17, 9, 3]\n",
        "\n",
        "# Calculate minimum sum of products\n",
        "min_sum = min_sum_of_products(array_one, array_two)\n",
        "print(\"Minimum sum of products is:\", min_sum)\n"
      ],
      "metadata": {
        "colab": {
          "base_uri": "https://localhost:8080/"
        },
        "id": "rnMxyt9NgcoC",
        "outputId": "4085531c-e21f-4f01-9526-be2d7843a183"
      },
      "execution_count": 4,
      "outputs": [
        {
          "output_type": "stream",
          "name": "stdout",
          "text": [
            "Minimum sum of products is: 104\n"
          ]
        }
      ]
    }
  ]
}