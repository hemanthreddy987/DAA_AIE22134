{
 "cells": [
  {
   "cell_type": "code",
   "execution_count": 8,
   "metadata": {},
   "outputs": [
    {
     "name": "stdout",
     "output_type": "stream",
     "text": [
      "Minimum candies required: 10\n"
     ]
    }
   ],
   "source": [
    "def min_candies(ratings):\n",
    "    n = len(ratings)\n",
    "    candies = [1] * n\n",
    "\n",
    "\n",
    "    for i in range(1, n):\n",
    "        if ratings[i] > ratings[i - 1]:\n",
    "            candies[i] = candies[i - 1] + 1\n",
    "\n",
    "    for i in range(n - 2, -1, -1):\n",
    "        if ratings[i] > ratings[i + 1]:\n",
    "            candies[i] = max(candies[i], candies[i + 1] + 1)\n",
    "\n",
    "    return sum(candies)\n",
    "\n",
    "ratings = [4, 6, 4, 5, 6, 2]\n",
    "min_candies_required = min_candies(ratings)\n",
    "print(\"Minimum candies required:\", min_candies_required)\n"
   ]
  },
  {
   "cell_type": "code",
   "execution_count": 9,
   "metadata": {},
   "outputs": [
    {
     "name": "stdout",
     "output_type": "stream",
     "text": [
      "Maximum number of people in a sunny town after removing one cloud: 21\n"
     ]
    }
   ],
   "source": [
    "def maximumPeople(p, x, y, r):\n",
    "    n = len(p)\n",
    "    m = len(y)\n",
    "\n",
    "    max_sunny = sum(p)\n",
    "\n",
    "    for i in range(m):\n",
    "        removed_cloud_coverage = set()\n",
    "        sunny_population = 0\n",
    "\n",
    "        for j in range(n):\n",
    "            if y[i] - r[i] <= x[j] <= y[i] + r[i]:\n",
    "                removed_cloud_coverage.add(j)\n",
    "\n",
    "        for j in range(n):\n",
    "            if j in removed_cloud_coverage:\n",
    "                continue\n",
    "            sunny_population += p[j]\n",
    "\n",
    "        max_sunny = max(max_sunny, sunny_population)\n",
    "\n",
    "    return max_sunny\n",
    "\n",
    "# Example usage:\n",
    "p = [5, 7, 2, 3, 4] \n",
    "x = [0, 1, 2, 3, 4]  \n",
    "y = [2]  \n",
    "r = [1]  \n",
    "\n",
    "max_sunny_population = maximumPeople(p, x, y, r)\n",
    "print(\"Maximum number of people in a sunny town after removing one cloud:\", max_sunny_population)\n"
   ]
  },
  {
   "cell_type": "code",
   "execution_count": 10,
   "metadata": {},
   "outputs": [
    {
     "name": "stdout",
     "output_type": "stream",
     "text": [
      "Lowest number of power plants needed: 3\n"
     ]
    }
   ],
   "source": [
    "def min_power_plants(n, city, k):\n",
    "    # Initialize variables\n",
    "    plants = 0\n",
    "    last_plant = -1\n",
    "    \n",
    "    # Iterate through cities\n",
    "    i = 0\n",
    "    while i < n:\n",
    "        # Find the rightmost city that can be covered by the current plant\n",
    "        plant_location = -1\n",
    "        for j in range(i + k - 1, i - k, -1):\n",
    "            if j < n and city[j] == 1:\n",
    "                plant_location = j\n",
    "                break\n",
    "        \n",
    "        # If no suitable city is found within the distribution range, return -1\n",
    "        if plant_location == -1:\n",
    "            return -1\n",
    "        \n",
    "        # Place a plant at the found location\n",
    "        plants += 1\n",
    "        last_plant = plant_location\n",
    "        \n",
    "        # Move to the next uncovered city\n",
    "        i = plant_location + k\n",
    "    \n",
    " \n",
    "    if last_plant < n - 1:\n",
    "        plants += 1\n",
    "    \n",
    "    return plants\n",
    "\n",
    "\n",
    "city_data = [1, 0, 0, 0, 1, 0, 0, 0, 1]\n",
    "distribution_range = 3\n",
    "num_cities = len(city_data)\n",
    "\n",
    "result = min_power_plants(num_cities, city_data, distribution_range)\n",
    "if result == -1:\n",
    "    print(\"It cannot be done using the current distribution constraint.\")\n",
    "else:\n",
    "    print(\"Lowest number of power plants needed:\", result)\n"
   ]
  }
 ],
 "metadata": {
  "kernelspec": {
   "display_name": "Python 3 (ipykernel)",
   "language": "python",
   "name": "python3"
  },
  "language_info": {
   "codemirror_mode": {
    "name": "ipython",
    "version": 3
   },
   "file_extension": ".py",
   "mimetype": "text/x-python",
   "name": "python",
   "nbconvert_exporter": "python",
   "pygments_lexer": "ipython3",
   "version": "3.12.2"
  }
 },
 "nbformat": 4,
 "nbformat_minor": 4
}
